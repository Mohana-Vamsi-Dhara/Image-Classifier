{
 "cells": [
  {
   "cell_type": "markdown",
   "metadata": {},
   "source": [
    "## Prepare the workspace"
   ]
  },
  {
   "cell_type": "code",
   "execution_count": 29,
   "metadata": {},
   "outputs": [
    {
     "name": "stdout",
     "output_type": "stream",
     "text": [
      "2.0.1\n",
      "True\n"
     ]
    }
   ],
   "source": [
    "# Check torch version and CUDA status if GPU is enabled.\n",
    "import torch\n",
    "print(torch.__version__)\n",
    "print(torch.cuda.is_available()) # Should return True when GPU is enabled. "
   ]
  },
  {
   "cell_type": "markdown",
   "metadata": {},
   "source": [
    "# Developing an AI application\n",
    "\n",
    "Going forward, AI algorithms will be incorporated into more and more everyday applications. For example, you might want to include an image classifier in a smart phone app. To do this, you'd use a deep learning model trained on hundreds of thousands of images as part of the overall application architecture. A large part of software development in the future will be using these types of models as common parts of applications. \n",
    "\n",
    "In this project, you'll train an image classifier to recognize different species of flowers. You can imagine using something like this in a phone app that tells you the name of the flower your camera is looking at. In practice you'd train this classifier, then export it for use in your application. We'll be using [this dataset](http://www.robots.ox.ac.uk/~vgg/data/flowers/102/index.html) of 102 flower categories, you can see a few examples below. \n",
    "\n",
    "<img src='assets/Flowers.png' width=500px>\n",
    "\n",
    "The project is broken down into multiple steps:\n",
    "\n",
    "* Load and preprocess the image dataset\n",
    "* Train the image classifier on your dataset\n",
    "* Use the trained classifier to predict image content\n",
    "\n",
    "We'll lead you through each part which you'll implement in Python.\n",
    "\n",
    "When you've completed this project, you'll have an application that can be trained on any set of labeled images. Here your network will be learning about flowers and end up as a command line application. But, what you do with your new skills depends on your imagination and effort in building a dataset. For example, imagine an app where you take a picture of a car, it tells you what the make and model is, then looks up information about it. Go build your own dataset and make something new.\n",
    "\n",
    "First up is importing the packages you'll need. It's good practice to keep all the imports at the beginning of your code. As you work through this notebook and find you need to import a package, make sure to add the import up here."
   ]
  },
  {
   "cell_type": "code",
   "execution_count": 30,
   "metadata": {},
   "outputs": [],
   "source": [
    "# Imports here\n",
    "%matplotlib inline \n",
    "%config InlineBackend.figure_format = 'retina'\n",
    "\n",
    "import matplotlib.pyplot as plt\n",
    "import torch\n",
    "import numpy as np\n",
    "from torch import nn\n",
    "from torch import optim\n",
    "from torchvision import datasets, models, transforms\n",
    "import torch.nn.functional as F\n",
    "import torch.utils.data \n",
    "import pandas as pd\n",
    "#import helper\n",
    "from collections import OrderedDict\n",
    "from PIL import Image\n",
    "import seaborn as sns"
   ]
  },
  {
   "cell_type": "markdown",
   "metadata": {},
   "source": [
    "## Load the data\n",
    "\n",
    "Here you'll use `torchvision` to load the data ([documentation](http://pytorch.org/docs/0.3.0/torchvision/index.html)). The data should be included alongside this notebook, otherwise you can [download it here](https://s3.amazonaws.com/content.udacity-data.com/nd089/flower_data.tar.gz). "
   ]
  },
  {
   "cell_type": "markdown",
   "metadata": {},
   "source": [
    "If you do not find the `flowers/` dataset in the current directory, **/workspace/home/aipnd-project/**, you can download it using the following commands. \n",
    "\n",
    "**Method 1**\n",
    "```bash\n",
    "!wget 'https://s3.amazonaws.com/content.udacity-data.com/nd089/flower_data.tar.gz'\n",
    "!unlink flowers\n",
    "!mkdir flowers && tar -xzf flower_data.tar.gz -C flowers\n",
    "```\n",
    "\n",
    "\n",
    "**Method 2**\n",
    "```bash\n",
    "!cp -r /data/ .\n",
    "```"
   ]
  },
  {
   "cell_type": "markdown",
   "metadata": {},
   "source": [
    "## Data Description\n",
    "The dataset is split into three parts, training, validation, and testing. For the training, you'll want to apply transformations such as random scaling, cropping, and flipping. This will help the network generalize leading to better performance. You'll also need to make sure the input data is resized to 224x224 pixels as required by the pre-trained networks.\n",
    "\n",
    "The validation and testing sets are used to measure the model's performance on data it hasn't seen yet. For this you don't want any scaling or rotation transformations, but you'll need to resize then crop the images to the appropriate size.\n",
    "\n",
    "The pre-trained networks you'll use were trained on the ImageNet dataset where each color channel was normalized separately. For all three sets you'll need to normalize the means and standard deviations of the images to what the network expects. For the means, it's `[0.485, 0.456, 0.406]` and for the standard deviations `[0.229, 0.224, 0.225]`, calculated from the ImageNet images.  These values will shift each color channel to be centered at 0 and range from -1 to 1.\n",
    " "
   ]
  },
  {
   "cell_type": "code",
   "execution_count": 31,
   "metadata": {},
   "outputs": [],
   "source": [
    "data_dir = 'flowers'\n",
    "train_dir = data_dir + '/train'\n",
    "valid_dir = data_dir + '/valid'\n",
    "test_dir = data_dir + '/test'"
   ]
  },
  {
   "cell_type": "code",
   "execution_count": 32,
   "metadata": {},
   "outputs": [
    {
     "name": "stdout",
     "output_type": "stream",
     "text": [
      "Train dataset size: 6552\n",
      "Validation dataset size: 818\n",
      "Test dataset size: 819\n"
     ]
    }
   ],
   "source": [
    "\n",
    "# Define your transforms for the training, validation, and testing sets\n",
    "train_transform = transforms.Compose([\n",
    "    transforms.RandomResizedCrop(224),  # Randomly crop and resize to 224x224\n",
    "    transforms.RandomHorizontalFlip(),  # Randomly flip images horizontally\n",
    "    transforms.ToTensor(),\n",
    "    transforms.Normalize([0.485, 0.456, 0.406], [0.229, 0.224, 0.225])  # Normalize with ImageNet means and std devs\n",
    "])\n",
    "\n",
    "valid_test_transform = transforms.Compose([\n",
    "    transforms.Resize(256),  # Resize the images to 256x256\n",
    "    transforms.CenterCrop(224),  # Center crop to 224x224\n",
    "    transforms.ToTensor(),\n",
    "    transforms.Normalize([0.485, 0.456, 0.406], [0.229, 0.224, 0.225])  # Normalize with ImageNet means and std devs\n",
    "])\n",
    "\n",
    "# Load the datasets with ImageFolder\n",
    "train_data = datasets.ImageFolder(data_dir + '/train', transform=train_transform)  # Replace with your training data path\n",
    "\n",
    "valid_data = datasets.ImageFolder(data_dir + '/valid', transform=valid_test_transform)  # Replace with your validation data path\n",
    "# Replace with your validation data path\n",
    "test_data = datasets.ImageFolder(data_dir + '/test', transform=valid_test_transform)  # Replace with your test data path\n",
    "\n",
    "# Using the image datasets and the transforms, \n",
    "train_loader = torch.utils.data.DataLoader(train_data, batch_size=32, shuffle=True)\n",
    "valid_loader = torch.utils.data.DataLoader(valid_data, batch_size=32, shuffle=True)\n",
    "test_loader = torch.utils.data.DataLoader(test_data, batch_size=32, shuffle=True)\n",
    "\n",
    "# Print dataset and dataloader info for debugging\n",
    "print(f\"Train dataset size: {len(train_data)}\")\n",
    "print(f\"Validation dataset size: {len(valid_data)}\")\n",
    "print(f\"Test dataset size: {len(test_data)}\")\n"
   ]
  },
  {
   "cell_type": "markdown",
   "metadata": {},
   "source": [
    "### Label mapping\n",
    "\n",
    "You'll also need to load in a mapping from category label to category name. You can find this in the file `cat_to_name.json`. It's a JSON object which you can read in with the [`json` module](https://docs.python.org/2/library/json.html). This will give you a dictionary mapping the integer encoded categories to the actual names of the flowers."
   ]
  },
  {
   "cell_type": "code",
   "execution_count": 33,
   "metadata": {},
   "outputs": [
    {
     "name": "stdout",
     "output_type": "stream",
     "text": [
      "102\n",
      "{'21': 'fire lily', '3': 'canterbury bells', '45': 'bolero deep blue', '1': 'pink primrose', '34': 'mexican aster', '27': 'prince of wales feathers', '7': 'moon orchid', '16': 'globe-flower', '25': 'grape hyacinth', '26': 'corn poppy', '79': 'toad lily', '39': 'siam tulip', '24': 'red ginger', '67': 'spring crocus', '35': 'alpine sea holly', '32': 'garden phlox', '10': 'globe thistle', '6': 'tiger lily', '93': 'ball moss', '33': 'love in the mist', '9': 'monkshood', '102': 'blackberry lily', '14': 'spear thistle', '19': 'balloon flower', '100': 'blanket flower', '13': 'king protea', '49': 'oxeye daisy', '15': 'yellow iris', '61': 'cautleya spicata', '31': 'carnation', '64': 'silverbush', '68': 'bearded iris', '63': 'black-eyed susan', '69': 'windflower', '62': 'japanese anemone', '20': 'giant white arum lily', '38': 'great masterwort', '4': 'sweet pea', '86': 'tree mallow', '101': 'trumpet creeper', '42': 'daffodil', '22': 'pincushion flower', '2': 'hard-leaved pocket orchid', '54': 'sunflower', '66': 'osteospermum', '70': 'tree poppy', '85': 'desert-rose', '99': 'bromelia', '87': 'magnolia', '5': 'english marigold', '92': 'bee balm', '28': 'stemless gentian', '97': 'mallow', '57': 'gaura', '40': 'lenten rose', '47': 'marigold', '59': 'orange dahlia', '48': 'buttercup', '55': 'pelargonium', '36': 'ruby-lipped cattleya', '91': 'hippeastrum', '29': 'artichoke', '71': 'gazania', '90': 'canna lily', '18': 'peruvian lily', '98': 'mexican petunia', '8': 'bird of paradise', '30': 'sweet william', '17': 'purple coneflower', '52': 'wild pansy', '84': 'columbine', '12': \"colt's foot\", '11': 'snapdragon', '96': 'camellia', '23': 'fritillary', '50': 'common dandelion', '44': 'poinsettia', '53': 'primula', '72': 'azalea', '65': 'californian poppy', '80': 'anthurium', '76': 'morning glory', '37': 'cape flower', '56': 'bishop of llandaff', '60': 'pink-yellow dahlia', '82': 'clematis', '58': 'geranium', '75': 'thorn apple', '41': 'barbeton daisy', '95': 'bougainvillea', '43': 'sword lily', '83': 'hibiscus', '78': 'lotus lotus', '88': 'cyclamen', '94': 'foxglove', '81': 'frangipani', '74': 'rose', '89': 'watercress', '73': 'water lily', '46': 'wallflower', '77': 'passion flower', '51': 'petunia'}\n"
     ]
    }
   ],
   "source": [
    "import json\n",
    "\n",
    "with open('cat_to_name.json') as f:\n",
    "    cat_to_name = json.load(f)\n",
    "\n",
    "print(len(cat_to_name))\n",
    "print(cat_to_name)\n"
   ]
  },
  {
   "cell_type": "code",
   "execution_count": 34,
   "metadata": {},
   "outputs": [
    {
     "name": "stdout",
     "output_type": "stream",
     "text": [
      "Current Directory: /workspace/cd0673/43ef1733-cf74-40a9-8c22-b6e440128200/image-classifier-part-1-workspace/home/aipnd-project\n",
      "Files and directories in the current directory:\n",
      "assets\n",
      "Image Classifier Project.ipynb\n",
      "train.py\n",
      "README.md\n",
      "workspace-utils-deprecated.py\n",
      ".ipynb_checkpoints\n",
      "predict.py\n",
      "flowers\n",
      "LICENSE\n",
      "cat_to_name.json\n",
      ".gitignore\n",
      "Image Classifier Project-zh.ipynb\n",
      "Dataset Directory Path: /workspace/cd0673/43ef1733-cf74-40a9-8c22-b6e440128200/image-classifier-part-1-workspace/home/aipnd-project/flowers\n"
     ]
    }
   ],
   "source": [
    "import os\n",
    "\n",
    "# Get the current working directory\n",
    "current_dir = os.getcwd()\n",
    "print(f\"Current Directory: {current_dir}\")\n",
    "\n",
    "# List all files and directories in the current directory\n",
    "files = os.listdir(current_dir)\n",
    "print(\"Files and directories in the current directory:\")\n",
    "for f in files:\n",
    "    print(f)\n",
    "\n",
    "# Assuming your dataset is in a folder named 'flowers', replace it with the actual folder name if different\n",
    "dataset_dir = os.path.join(current_dir, 'flowers')  # Replace 'flowers' with your dataset folder name if needed\n",
    "print(f\"Dataset Directory Path: {dataset_dir}\")\n"
   ]
  },
  {
   "cell_type": "markdown",
   "metadata": {},
   "source": [
    "# Building and training the classifier\n",
    "\n",
    "Now that the data is ready, it's time to build and train the classifier. As usual, you should use one of the pretrained models from `torchvision.models` to get the image features. Build and train a new feed-forward classifier using those features.\n",
    "\n",
    "We're going to leave this part up to you. Refer to [the rubric](https://review.udacity.com/#!/rubrics/1663/view) for guidance on successfully completing this section. Things you'll need to do:\n",
    "\n",
    "* Load a [pre-trained network](http://pytorch.org/docs/master/torchvision/models.html) (If you need a starting point, the VGG networks work great and are straightforward to use)\n",
    "* Define a new, untrained feed-forward network as a classifier, using ReLU activations and dropout\n",
    "* Train the classifier layers using backpropagation using the pre-trained network to get the features\n",
    "* Track the loss and accuracy on the validation set to determine the best hyperparameters\n",
    "\n",
    "We've left a cell open for you below, but use as many as you need. Our advice is to break the problem up into smaller parts you can run separately. Check that each part is doing what you expect, then move on to the next. You'll likely find that as you work through each part, you'll need to go back and modify your previous code. This is totally normal!\n",
    "\n",
    "When training make sure you're updating only the weights of the feed-forward network. You should be able to get the validation accuracy above 70% if you build everything right. Make sure to try different hyperparameters (learning rate, units in the classifier, epochs, etc) to find the best model. Save those hyperparameters to use as default values in the next part of the project.\n",
    "\n",
    "One last important tip if you're using the workspace to run your code: To avoid having your workspace disconnect during the long-running tasks in this notebook, please read in the earlier page in this lesson called Intro to\n",
    "GPU Workspaces about Keeping Your Session Active. \n",
    "\n",
    "## Note for Workspace users: \n",
    "If your network is over 1 GB when saved as a checkpoint, there might be issues with saving backups in your workspace. Typically this happens with wide dense layers after the convolutional layers. If your saved checkpoint is larger than 1 GB (you can open a terminal and check with `ls -lh`), you should reduce the size of your hidden layers and train again."
   ]
  },
  {
   "cell_type": "code",
   "execution_count": 35,
   "metadata": {},
   "outputs": [
    {
     "data": {
      "text/plain": [
       "AlexNet(\n",
       "  (features): Sequential(\n",
       "    (0): Conv2d(3, 64, kernel_size=(11, 11), stride=(4, 4), padding=(2, 2))\n",
       "    (1): ReLU(inplace=True)\n",
       "    (2): MaxPool2d(kernel_size=3, stride=2, padding=0, dilation=1, ceil_mode=False)\n",
       "    (3): Conv2d(64, 192, kernel_size=(5, 5), stride=(1, 1), padding=(2, 2))\n",
       "    (4): ReLU(inplace=True)\n",
       "    (5): MaxPool2d(kernel_size=3, stride=2, padding=0, dilation=1, ceil_mode=False)\n",
       "    (6): Conv2d(192, 384, kernel_size=(3, 3), stride=(1, 1), padding=(1, 1))\n",
       "    (7): ReLU(inplace=True)\n",
       "    (8): Conv2d(384, 256, kernel_size=(3, 3), stride=(1, 1), padding=(1, 1))\n",
       "    (9): ReLU(inplace=True)\n",
       "    (10): Conv2d(256, 256, kernel_size=(3, 3), stride=(1, 1), padding=(1, 1))\n",
       "    (11): ReLU(inplace=True)\n",
       "    (12): MaxPool2d(kernel_size=3, stride=2, padding=0, dilation=1, ceil_mode=False)\n",
       "  )\n",
       "  (avgpool): AdaptiveAvgPool2d(output_size=(6, 6))\n",
       "  (classifier): Sequential(\n",
       "    (0): Dropout(p=0.5, inplace=False)\n",
       "    (1): Linear(in_features=9216, out_features=4096, bias=True)\n",
       "    (2): ReLU(inplace=True)\n",
       "    (3): Dropout(p=0.5, inplace=False)\n",
       "    (4): Linear(in_features=4096, out_features=4096, bias=True)\n",
       "    (5): ReLU(inplace=True)\n",
       "    (6): Linear(in_features=4096, out_features=1000, bias=True)\n",
       "  )\n",
       ")"
      ]
     },
     "execution_count": 35,
     "metadata": {},
     "output_type": "execute_result"
    }
   ],
   "source": [
    "model_arch = models.alexnet (pretrained = True)\n",
    "model_arch"
   ]
  },
  {
   "cell_type": "code",
   "execution_count": 36,
   "metadata": {},
   "outputs": [
    {
     "name": "stdout",
     "output_type": "stream",
     "text": [
      "AlexNet(\n",
      "  (features): Sequential(\n",
      "    (0): Conv2d(3, 64, kernel_size=(11, 11), stride=(4, 4), padding=(2, 2))\n",
      "    (1): ReLU(inplace=True)\n",
      "    (2): MaxPool2d(kernel_size=3, stride=2, padding=0, dilation=1, ceil_mode=False)\n",
      "    (3): Conv2d(64, 192, kernel_size=(5, 5), stride=(1, 1), padding=(2, 2))\n",
      "    (4): ReLU(inplace=True)\n",
      "    (5): MaxPool2d(kernel_size=3, stride=2, padding=0, dilation=1, ceil_mode=False)\n",
      "    (6): Conv2d(192, 384, kernel_size=(3, 3), stride=(1, 1), padding=(1, 1))\n",
      "    (7): ReLU(inplace=True)\n",
      "    (8): Conv2d(384, 256, kernel_size=(3, 3), stride=(1, 1), padding=(1, 1))\n",
      "    (9): ReLU(inplace=True)\n",
      "    (10): Conv2d(256, 256, kernel_size=(3, 3), stride=(1, 1), padding=(1, 1))\n",
      "    (11): ReLU(inplace=True)\n",
      "    (12): MaxPool2d(kernel_size=3, stride=2, padding=0, dilation=1, ceil_mode=False)\n",
      "  )\n",
      "  (avgpool): AdaptiveAvgPool2d(output_size=(6, 6))\n",
      "  (classifier): Sequential(\n",
      "    (fc_layer1): Linear(in_features=9216, out_features=4096, bias=True)\n",
      "    (activation1): ReLU()\n",
      "    (dropout_layer1): Dropout(p=0.3, inplace=False)\n",
      "    (fc_layer2): Linear(in_features=4096, out_features=2048, bias=True)\n",
      "    (activation2): ReLU()\n",
      "    (dropout_layer2): Dropout(p=0.3, inplace=False)\n",
      "    (fc_layer3): Linear(in_features=2048, out_features=102, bias=True)\n",
      "    (output_layer): LogSoftmax(dim=1)\n",
      "  )\n",
      ")\n"
     ]
    }
   ],
   "source": [
    "for param in model_arch.parameters():\n",
    "    param.requires_grad = False\n",
    "\n",
    "new_classifier = nn.Sequential(OrderedDict([\n",
    "    ('fc_layer1', nn.Linear(9216, 4096)),\n",
    "    ('activation1', nn.ReLU()),\n",
    "    ('dropout_layer1', nn.Dropout(p=0.3)),\n",
    "    ('fc_layer2', nn.Linear(4096, 2048)),\n",
    "    ('activation2', nn.ReLU()),\n",
    "    ('dropout_layer2', nn.Dropout(p=0.3)),\n",
    "    ('fc_layer3', nn.Linear(2048, 102)),\n",
    "    ('output_layer', nn.LogSoftmax(dim=1))\n",
    "]))\n",
    "\n",
    "model_arch.classifier = new_classifier\n",
    "print(model_arch)\n",
    "\n",
    "criterion = nn.NLLLoss ()\n",
    "optimizer = optim.Adam (model_arch.classifier.parameters (), lr = 0.1)\n",
    "\n",
    " #Defining validation \n",
    "def validation(model_arch, valid_loader, criterion):\n",
    "    model_arch.to ('cuda')\n",
    "    \n",
    "    valid_loss = 0\n",
    "    accuracy = 0\n",
    "    for inputs, labels in valid_loader:\n",
    "        \n",
    "        inputs, labels = inputs.to('cuda'), labels.to('cuda')\n",
    "        output = model_arch.forward(inputs)\n",
    "        valid_loss += criterion(output, labels).item()\n",
    "\n",
    "        ps = torch.exp(output)\n",
    "        equality = (labels.data == ps.max(dim=1)[1])\n",
    "        accuracy += equality.type(torch.FloatTensor).mean()\n",
    "    \n",
    "    return valid_loss, accuracy"
   ]
  },
  {
   "cell_type": "code",
   "execution_count": null,
   "metadata": {},
   "outputs": [
    {
     "name": "stdout",
     "output_type": "stream",
     "text": [
      "Epoch: 1/7..  Training Loss: 51750.342..  Valid Loss: 6.170..  Valid Accuracy: 3.459%\n"
     ]
    }
   ],
   "source": [
    "#training a model\n",
    "#change to cuda if enabled\n",
    "model_arch.to ('cuda')\n",
    "epochs = 7\n",
    "print_every = 40\n",
    "steps = 0\n",
    "\n",
    "\n",
    "for e in range (epochs): \n",
    "    running_loss = 0\n",
    "    for ii, (inputs, labels) in enumerate (train_loader):\n",
    "        steps += 1\n",
    "    \n",
    "        inputs, labels = inputs.to('cuda'), labels.to('cuda')\n",
    "    \n",
    "        optimizer.zero_grad () #where optimizer is working on classifier paramters only\n",
    "    \n",
    "        # Forward and backward passes\n",
    "        outputs = model_arch.forward (inputs) #calculating output\n",
    "        loss = criterion (outputs, labels) #calculating loss\n",
    "        loss.backward () \n",
    "        optimizer.step () #performs single optimization step \n",
    "    \n",
    "        running_loss += loss.item () # loss.item () returns scalar value of Loss function\n",
    "    \n",
    "        if steps % print_every == 0:\n",
    "            model_arch.eval () #switching to evaluation mode so that dropout is turned off\n",
    "            \n",
    "            # Turn off gradients for validation, saves memory and computations\n",
    "            with torch.no_grad():\n",
    "                valid_loss, accuracy = validation(model_arch, valid_loader, criterion)\n",
    "            \n",
    "            print(\"Epoch: {}/{}.. \".format(e+1, epochs),\n",
    "                  \"Training Loss: {:.3f}.. \".format(running_loss/print_every),\n",
    "                  \"Valid Loss: {:.3f}.. \".format(valid_loss/len(valid_loader)),\n",
    "                  \"Valid Accuracy: {:.3f}%\".format(accuracy/len(valid_loader)*100))\n",
    "            \n",
    "            running_loss = 0\n",
    "            \n",
    "            # Make sure training is back on\n",
    "            model_arch.train()"
   ]
  },
  {
   "cell_type": "code",
   "execution_count": null,
   "metadata": {},
   "outputs": [],
   "source": []
  },
  {
   "cell_type": "markdown",
   "metadata": {},
   "source": [
    "## Testing your network\n",
    "\n",
    "It's good practice to test your trained network on test data, images the network has never seen either in training or validation. This will give you a good estimate for the model's performance on completely new images. Run the test images through the network and measure the accuracy, the same way you did validation. You should be able to reach around 70% accuracy on the test set if the model has been trained well."
   ]
  },
  {
   "cell_type": "code",
   "execution_count": null,
   "metadata": {},
   "outputs": [],
   "source": [
    "# TODO: Do validation on the test set\n",
    "# Assuming the test dataset has already been loaded into `test_loader`\n",
    "# similar to how you loaded `train_loader` and `valid_loader`.\n",
    "\n",
    "# Set the model to evaluation mode\n",
    "vgg16.eval()\n",
    "\n",
    "# Variables to keep track of test loss and accuracy\n",
    "test_loss = 0.0\n",
    "test_acc = 0.0\n",
    "\n",
    "# Disable gradient calculations for validation/testing\n",
    "with torch.no_grad():\n",
    "    for inputs, labels in test_loader:\n",
    "        # Forward pass\n",
    "        outputs = vgg16(inputs)\n",
    "        loss = criterion(outputs, labels)\n",
    "\n",
    "        # Accumulate the test loss\n",
    "        test_loss += loss.item()\n",
    "\n",
    "        # Calculate accuracy for this batch\n",
    "        test_acc += accuracy(outputs, labels)\n",
    "\n",
    "# Compute the average test loss and accuracy\n",
    "test_loss = test_loss / len(test_loader)\n",
    "test_acc = test_acc / len(test_loader)\n",
    "\n",
    "# Print the final test accuracy and loss\n",
    "print(f\"Test Loss: {test_loss:.4f}, Test Accuracy: {test_acc:.4f}\")\n"
   ]
  },
  {
   "cell_type": "markdown",
   "metadata": {},
   "source": [
    "## Save the checkpoint\n",
    "\n",
    "Now that your network is trained, save the model so you can load it later for making predictions. You probably want to save other things such as the mapping of classes to indices which you get from one of the image datasets: `image_datasets['train'].class_to_idx`. You can attach this to the model as an attribute which makes inference easier later on.\n",
    "\n",
    "```model.class_to_idx = image_datasets['train'].class_to_idx```\n",
    "\n",
    "Remember that you'll want to completely rebuild the model later so you can use it for inference. Make sure to include any information you need in the checkpoint. If you want to load the model and keep training, you'll want to save the number of epochs as well as the optimizer state, `optimizer.state_dict`. You'll likely want to use this trained model in the next part of the project, so best to save it now."
   ]
  },
  {
   "cell_type": "code",
   "execution_count": null,
   "metadata": {},
   "outputs": [],
   "source": [
    "# TODO: Save the checkpoint \n",
    "model_arch.to ('cpu') #no need to use cuda for saving/loading model.\n",
    "# TODO: Save the checkpoint \n",
    "model_arch.class_to_idx = train_image_datasets.class_to_idx #saving mapping between predicted class and class name, \n",
    "#second variable is a class name in numeric \n",
    "\n",
    "#creating dictionary \n",
    "checkpoint = {'classifier': model_arch.classifier,\n",
    "              'state_dict': model_arch.state_dict (),\n",
    "              'mapping':    model_arch.class_to_idx\n",
    "             }        \n",
    "\n",
    "torch.save (checkpoint, 'project_checkpoint.pth')\n",
    "#you should also store other hyper-parameters like the number of epochs, the learning_rate, arch param \n",
    "#along with the checkpoint. This parameters are required in case you need to continue training your model"
   ]
  },
  {
   "cell_type": "markdown",
   "metadata": {},
   "source": [
    "## Loading the checkpoint\n",
    "\n",
    "At this point it's good to write a function that can load a checkpoint and rebuild the model. That way you can come back to this project and keep working on it without having to retrain the network."
   ]
  },
  {
   "cell_type": "code",
   "execution_count": null,
   "metadata": {},
   "outputs": [],
   "source": [
    "# TODO: Write a function that loads a checkpoint and rebuilds the model\n",
    "# TODO: Write a function that loads a checkpoint and rebuilds the model\n",
    "\n",
    "def loading_model (file_path):\n",
    "    checkpoint = torch.load (file_path) #loading checkpoint from a file\n",
    "    model_arch = models.alexnet (pretrained = True) #function works solely for Alexnet\n",
    "    #you can use the arch from the checkpoint and choose the model architecture in a more generic way:\n",
    "    #model = getattr(models, checkpoint['arch']\n",
    "        \n",
    "    model_arch.classifier = checkpoint ['classifier']\n",
    "    model_arch.load_state_dict (checkpoint ['state_dict'])\n",
    "    model_arch.class_to_idx = checkpoint ['mapping']\n",
    "    \n",
    "    for param in model_arch.parameters(): \n",
    "        param.requires_grad = False #turning off tuning of the model\n",
    "    \n",
    "    return model_arch"
   ]
  },
  {
   "cell_type": "markdown",
   "metadata": {},
   "source": [
    "# Inference for classification\n",
    "\n",
    "Now you'll write a function to use a trained network for inference. That is, you'll pass an image into the network and predict the class of the flower in the image. Write a function called `predict` that takes an image and a model, then returns the top $K$ most likely classes along with the probabilities. It should look like \n",
    "\n",
    "```python\n",
    "probs, classes = predict(image_path, model)\n",
    "print(probs)\n",
    "print(classes)\n",
    "> [ 0.01558163  0.01541934  0.01452626  0.01443549  0.01407339]\n",
    "> ['70', '3', '45', '62', '55']\n",
    "```\n",
    "\n",
    "First you'll need to handle processing the input image such that it can be used in your network. \n",
    "\n",
    "## Image Preprocessing\n",
    "\n",
    "You'll want to use `PIL` to load the image ([documentation](https://pillow.readthedocs.io/en/latest/reference/Image.html)). It's best to write a function that preprocesses the image so it can be used as input for the model. This function should process the images in the same manner used for training. \n",
    "\n",
    "First, resize the images where the shortest side is 256 pixels, keeping the aspect ratio. This can be done with the [`thumbnail`](http://pillow.readthedocs.io/en/3.1.x/reference/Image.html#PIL.Image.Image.thumbnail) or [`resize`](http://pillow.readthedocs.io/en/3.1.x/reference/Image.html#PIL.Image.Image.thumbnail) methods. Then you'll need to crop out the center 224x224 portion of the image.\n",
    "\n",
    "Color channels of images are typically encoded as integers 0-255, but the model expected floats 0-1. You'll need to convert the values. It's easiest with a Numpy array, which you can get from a PIL image like so `np_image = np.array(pil_image)`.\n",
    "\n",
    "As before, the network expects the images to be normalized in a specific way. For the means, it's `[0.485, 0.456, 0.406]` and for the standard deviations `[0.229, 0.224, 0.225]`. You'll want to subtract the means from each color channel, then divide by the standard deviation. \n",
    "\n",
    "And finally, PyTorch expects the color channel to be the first dimension but it's the third dimension in the PIL image and Numpy array. You can reorder dimensions using [`ndarray.transpose`](https://docs.scipy.org/doc/numpy-1.13.0/reference/generated/numpy.ndarray.transpose.html). The color channel needs to be first and retain the order of the other two dimensions."
   ]
  },
  {
   "cell_type": "code",
   "execution_count": null,
   "metadata": {},
   "outputs": [],
   "source": [
    "def process_image(image):\n",
    "    ''' Scales, crops, and normalizes a PIL image for a PyTorch model,\n",
    "        returns an Numpy array\n",
    "    '''\n",
    "    #size = 256, 256\n",
    "    im = Image.open (image) #loading image\n",
    "    width, height = im.size #original size\n",
    "    #proportion = width/ float (height) #to keep aspect ratio\n",
    "    \n",
    "    if width > height: \n",
    "        height = 256\n",
    "        im.thumbnail ((50000, height), Image.ANTIALIAS)\n",
    "    else: \n",
    "        width = 256\n",
    "        im.thumbnail ((width,50000), Image.ANTIALIAS)\n",
    "        \n",
    "    \n",
    "    width, height = im.size #new size of im\n",
    "    #crop 224x224 in the center\n",
    "    reduce = 224\n",
    "    left = (width - reduce)/2 \n",
    "    top = (height - reduce)/2\n",
    "    right = left + 224 \n",
    "    bottom = top + 224\n",
    "    im = im.crop ((left, top, right, bottom))\n",
    "    \n",
    "    #preparing numpy array\n",
    "    np_image = np.array (im)/255 #to make values from 0 to 1\n",
    "    np_image -= np.array ([0.485, 0.456, 0.406]) \n",
    "    np_image /= np.array ([0.229, 0.224, 0.225])\n",
    "    \n",
    "    np_image= np_image.transpose ((2,0,1))\n",
    "    #np_image.transpose (1,2,0)\n",
    "    return np_image\n",
    "    \n",
    "    # TODO: Process a PIL image for use in a PyTorch model"
   ]
  },
  {
   "cell_type": "markdown",
   "metadata": {},
   "source": [
    "To check your work, the function below converts a PyTorch tensor and displays it in the notebook. If your `process_image` function works, running the output through this function should return the original image (except for the cropped out portions)."
   ]
  },
  {
   "cell_type": "code",
   "execution_count": null,
   "metadata": {},
   "outputs": [],
   "source": [
    "def imshow(image, ax=None, title=None):\n",
    "    if ax is None:\n",
    "        fig, ax = plt.subplots()\n",
    "    \n",
    "    # PyTorch tensors assume the color channel is the first dimension\n",
    "    # but matplotlib assumes is the third dimension\n",
    "    image = np.array (image)\n",
    "    image = image.transpose((1, 2, 0))\n",
    "    \n",
    "    # Undo preprocessing\n",
    "    mean = np.array([0.485, 0.456, 0.406])\n",
    "    std = np.array([0.229, 0.224, 0.225])\n",
    "    image = std * image + mean\n",
    "    #image = np.multiply (std, image) + mean\n",
    "    \n",
    "    # Image needs to be clipped between 0 and 1 or it looks like noise when displayed\n",
    "    image = np.clip(image, 0, 1)\n",
    "    \n",
    "    ax.imshow(image)\n",
    "    \n",
    "    return ax\n",
    "\n",
    "image_path = 'flowers/train/10/image_07086.jpg'\n",
    "img = process_image(image_path)\n",
    "#img.shape\n",
    "imshow(img)\n",
    "#(np.array([0.229, 0.224, 0.225])).shape\n",
    "#img = img.transpose ((1,2,0))\n",
    "#img"
   ]
  },
  {
   "cell_type": "markdown",
   "metadata": {},
   "source": [
    "## Class Prediction\n",
    "\n",
    "Once you can get images in the correct format, it's time to write a function for making predictions with your model. A common practice is to predict the top 5 or so (usually called top-$K$) most probable classes. You'll want to calculate the class probabilities then find the $K$ largest values.\n",
    "\n",
    "To get the top $K$ largest values in a tensor use [`x.topk(k)`](http://pytorch.org/docs/master/torch.html#torch.topk). This method returns both the highest `k` probabilities and the indices of those probabilities corresponding to the classes. You need to convert from these indices to the actual class labels using `class_to_idx` which hopefully you added to the model or from an `ImageFolder` you used to load the data ([see here](#Save-the-checkpoint)). Make sure to invert the dictionary so you get a mapping from index to class as well.\n",
    "\n",
    "Again, this method should take a path to an image and a model checkpoint, then return the probabilities and classes.\n",
    "\n",
    "```python\n",
    "probs, classes = predict(image_path, model)\n",
    "print(probs)\n",
    "print(classes)\n",
    "> [ 0.01558163  0.01541934  0.01452626  0.01443549  0.01407339]\n",
    "> ['70', '3', '45', '62', '55']\n",
    "```"
   ]
  },
  {
   "cell_type": "code",
   "execution_count": null,
   "metadata": {},
   "outputs": [],
   "source": [
    "#mapping = train_image_datasets.class_to_idx\n",
    "\n",
    "#indeces = np.array ([1, 10, 100, 101, 102])\n",
    "#classes = pd.DataFrame ([mapping [item] for item in indeces]) #replacing indeces with classes\n",
    "#classes = np.array (classes) #converting to Numpy array \n",
    "\n",
    "def predict(image_path, model_arch, topkl):\n",
    "    ''' Predict the class (or classes) of an image using a trained deep learning model.\n",
    "    '''\n",
    "    # TODO: Implement the code to predict the class from an image file\n",
    "    image = process_image (image_path) #loading image and processing it using above defined function\n",
    "    \n",
    "    #we cannot pass image to model.forward 'as is' as it is expecting tensor, not numpy array\n",
    "    #converting to tensor\n",
    "    im = torch.from_numpy (image).type (torch.FloatTensor)\n",
    "    \n",
    "    im = im.unsqueeze (dim = 0) #used to make size of torch as expected. as forward method is working with batches,\n",
    "    #doing that we will have batch size = 1 \n",
    "        \n",
    "    with torch.no_grad ():\n",
    "        output = model_arch.forward (im)\n",
    "    output_prob = torch.exp (output) #converting into a probability\n",
    "    \n",
    "    probs, indeces = output_prob.topk (topkl)\n",
    "    probs = probs.numpy () #converting both to numpy array\n",
    "    indeces = indeces.numpy () \n",
    "    \n",
    "    probs = probs.tolist () [0] #converting both to list\n",
    "    indeces = indeces.tolist () [0]\n",
    "    \n",
    "    \n",
    "    mapping = {val: key for key, val in\n",
    "                model.class_to_idx.items()\n",
    "                }\n",
    "    \n",
    "    classes = [mapping [item] for item in indeces]\n",
    "    #classes = pd.DataFrame ([mapping [item] for item in indeces]) #replacing indeces with classes\n",
    "    classes = np.array (classes) #converting to Numpy array \n",
    "    \n",
    "    return probs, classes"
   ]
  },
  {
   "cell_type": "markdown",
   "metadata": {},
   "source": [
    "## Sanity Checking\n",
    "\n",
    "Now that you can use a trained model for predictions, check to make sure it makes sense. Even if the testing accuracy is high, it's always good to check that there aren't obvious bugs. Use `matplotlib` to plot the probabilities for the top 5 classes as a bar graph, along with the input image. It should look like this:\n",
    "\n",
    "<img src='assets/inference_example.png' width=300px>\n",
    "\n",
    "You can convert from the class integer encoding to actual flower names with the `cat_to_name.json` file (should have been loaded earlier in the notebook). To show a PyTorch tensor as an image, use the `imshow` function defined above."
   ]
  },
  {
   "cell_type": "code",
   "execution_count": null,
   "metadata": {},
   "outputs": [],
   "source": [
    "# TODO: Display an image along with the top 5 classes\n",
    "# TODO: Display an image along with the top 5 classes\n",
    "model_arch = model_verify #using the restored one \n",
    "file_path = 'flowers/test/10/image_07090.jpg' #an example from test set\n",
    "\n",
    "img = process_image (file_path)\n",
    "imshow (img)\n",
    "plt.show()\n",
    "probs, classes = predict (file_path, model_arch, 5)\n",
    "\n",
    "#print (probs)\n",
    "#print (classes)\n",
    "\n",
    "#preparing class_names using mapping with cat_to_name\n",
    "\n",
    "class_names = [cat_to_name [item] for item in classes]\n",
    "\n",
    "#fig, (ax2) = plt.subplots(figsize=(6,9), ncols=2)\n",
    "plt.figure(figsize = (6,10))\n",
    "plt.subplot(2,1,2)\n",
    "#ax2.barh(class_names, probs)\n",
    "#ax2.set_aspect(0.1)\n",
    "#ax2.set_yticks(classes)\n",
    "#ax2.set_title('Flower Class Probability')\n",
    "#ax2.set_xlim(0, 1.1)\n",
    "\n",
    "sns.barplot(x=probs, y=class_names, color= 'green');\n",
    "\n",
    "#width = 1/5\n",
    "#plt.subplot(2,1,2)\n",
    "#plt.bar (classes, probs, width, color = 'blue')\n",
    "plt.show()"
   ]
  },
  {
   "cell_type": "code",
   "execution_count": null,
   "metadata": {},
   "outputs": [],
   "source": []
  },
  {
   "cell_type": "markdown",
   "metadata": {},
   "source": [
    "## Reminder for Workspace users\n",
    "If your network becomes very large when saved as a checkpoint, there might be issues with saving backups in your workspace. You should reduce the size of your hidden layers and train again. \n",
    "    \n",
    "We strongly encourage you to delete these large interim files and directories before navigating to another page or closing the browser tab."
   ]
  },
  {
   "cell_type": "code",
   "execution_count": null,
   "metadata": {},
   "outputs": [],
   "source": [
    "# TODO remove .pth files or move it to a temporary `~/opt` directory in this Workspace\n",
    "!rm checkpoint.pth"
   ]
  },
  {
   "cell_type": "code",
   "execution_count": null,
   "metadata": {},
   "outputs": [],
   "source": []
  }
 ],
 "metadata": {
  "kernelspec": {
   "display_name": "Python 3 (ipykernel)",
   "language": "python",
   "name": "python3"
  },
  "language_info": {
   "codemirror_mode": {
    "name": "ipython",
    "version": 3
   },
   "file_extension": ".py",
   "mimetype": "text/x-python",
   "name": "python",
   "nbconvert_exporter": "python",
   "pygments_lexer": "ipython3",
   "version": "3.10.11"
  }
 },
 "nbformat": 4,
 "nbformat_minor": 2
}
